{
  "nbformat": 4,
  "nbformat_minor": 0,
  "metadata": {
    "colab": {
      "provenance": []
    },
    "kernelspec": {
      "name": "python3",
      "display_name": "Python 3"
    },
    "language_info": {
      "name": "python"
    }
  },
  "cells": [
    {
      "cell_type": "markdown",
      "source": [
        "Right Triangle"
      ],
      "metadata": {
        "id": "N-J_lMa3nAnd"
      }
    },
    {
      "cell_type": "code",
      "execution_count": null,
      "metadata": {
        "colab": {
          "base_uri": "https://localhost:8080/"
        },
        "id": "gFRk4Wajm3Yf",
        "outputId": "69d765ad-1a3a-4fdd-9c05-6edf900ecf7f"
      },
      "outputs": [
        {
          "output_type": "stream",
          "name": "stdout",
          "text": [
            "* \n",
            "* * \n",
            "* * * \n",
            "* * * * \n",
            "* * * * * \n"
          ]
        }
      ],
      "source": [
        "n=5\n",
        "for i in range(n):\n",
        "  for j in range(i+1):\n",
        "    print(\"*\",end=\" \")\n",
        "  print()"
      ]
    },
    {
      "cell_type": "markdown",
      "source": [
        "Half Diamond"
      ],
      "metadata": {
        "id": "IEBi0IkzndFs"
      }
    },
    {
      "cell_type": "code",
      "source": [
        "n=5\n",
        "for i in range(n):\n",
        "  for j in range(i+1):\n",
        "    print(\"*\",end=\" \")\n",
        "  print()\n",
        "for i in range(n):\n",
        "  for j in range(i,n-1):\n",
        "    print(\"*\",end=\" \")\n",
        "  print()"
      ],
      "metadata": {
        "colab": {
          "base_uri": "https://localhost:8080/"
        },
        "id": "5NonTvzfnOd0",
        "outputId": "942dbcf5-0db3-418f-c092-3f979c5af8bd"
      },
      "execution_count": null,
      "outputs": [
        {
          "output_type": "stream",
          "name": "stdout",
          "text": [
            "* \n",
            "* * \n",
            "* * * \n",
            "* * * * \n",
            "* * * * * \n",
            "* * * * \n",
            "* * * \n",
            "* * \n",
            "* \n",
            "\n"
          ]
        }
      ]
    },
    {
      "cell_type": "markdown",
      "source": [
        "Diamond"
      ],
      "metadata": {
        "id": "Wfi7i-9xrhxF"
      }
    },
    {
      "cell_type": "code",
      "source": [
        "n=5\n",
        "for i in range(n+1):\n",
        "  for j in range(i,n):\n",
        "    print(\" \",end=\" \")\n",
        "  for j in range(i):\n",
        "    print(\"*\",end=\" \")\n",
        "  for j in range(i+1):\n",
        "    print(\"*\",end=\" \")\n",
        "  print()\n",
        "for i in range(n):\n",
        "  for j in range(i+1):\n",
        "    print(\" \",end=\" \")\n",
        "  for j in range(i,n):\n",
        "    print(\"*\",end=\" \")\n",
        "  for j in range(i,n-1):\n",
        "    print(\"*\",end=\" \")\n",
        "  print()"
      ],
      "metadata": {
        "colab": {
          "base_uri": "https://localhost:8080/"
        },
        "id": "wLHKqAveruzV",
        "outputId": "9b85d6c8-1758-43fc-bf75-918c7c0d0b41"
      },
      "execution_count": null,
      "outputs": [
        {
          "output_type": "stream",
          "name": "stdout",
          "text": [
            "          * \n",
            "        * * * \n",
            "      * * * * * \n",
            "    * * * * * * * \n",
            "  * * * * * * * * * \n",
            "* * * * * * * * * * * \n",
            "  * * * * * * * * * \n",
            "    * * * * * * * \n",
            "      * * * * * \n",
            "        * * * \n",
            "          * \n"
          ]
        }
      ]
    },
    {
      "cell_type": "markdown",
      "source": [
        "Parallelogram"
      ],
      "metadata": {
        "id": "4uTN5npLxnX7"
      }
    },
    {
      "cell_type": "code",
      "source": [
        "n=5\n",
        "for i in range(n):\n",
        "  for j in range(i,n-1):\n",
        "    print(\" \",end=\"\")\n",
        "  for j in range(n):\n",
        "    print(\"*\",end=\" \")\n",
        "  print()"
      ],
      "metadata": {
        "colab": {
          "base_uri": "https://localhost:8080/"
        },
        "id": "jMISiQhOx7hN",
        "outputId": "3be3e5bd-ce85-438f-b309-d47de67a7c70"
      },
      "execution_count": null,
      "outputs": [
        {
          "output_type": "stream",
          "name": "stdout",
          "text": [
            "    * * * * * \n",
            "   * * * * * \n",
            "  * * * * * \n",
            " * * * * * \n",
            "* * * * * \n"
          ]
        }
      ]
    },
    {
      "cell_type": "markdown",
      "source": [
        "WAP to count total number of negative number in an array."
      ],
      "metadata": {
        "id": "yv7Ar9ELzdAa"
      }
    },
    {
      "cell_type": "code",
      "source": [
        "a = [1,2,-3,-4,6,7,4,-2,4,-10]\n",
        "count = 0\n",
        "for i in a:\n",
        "  if i<0:\n",
        "    count = count+1\n",
        "print(count)\n"
      ],
      "metadata": {
        "colab": {
          "base_uri": "https://localhost:8080/"
        },
        "id": "HDSCAXO-zd76",
        "outputId": "714db54c-cba2-4c7e-8cc1-4baf6921b63e"
      },
      "execution_count": null,
      "outputs": [
        {
          "output_type": "stream",
          "name": "stdout",
          "text": [
            "4\n"
          ]
        }
      ]
    },
    {
      "cell_type": "markdown",
      "source": [
        "max no. found from array"
      ],
      "metadata": {
        "id": "F3ZwWGll3TBZ"
      }
    },
    {
      "cell_type": "code",
      "source": [
        "def max_found(arr,n):\n",
        "  max = arr[0]\n",
        "  for i in range(1,n):\n",
        "    if arr[i] > max:\n",
        "      max = arr[i]\n",
        "  return max\n",
        "\n",
        "arr= [22,56,83,900,133]\n",
        "n = len(arr)\n",
        "a = max_found(arr,n)\n",
        "\n",
        "print(a)"
      ],
      "metadata": {
        "colab": {
          "base_uri": "https://localhost:8080/"
        },
        "id": "QJBS0p6srNP4",
        "outputId": "02c1362a-fe7b-4f98-8f46-8ca7c824a2db"
      },
      "execution_count": null,
      "outputs": [
        {
          "output_type": "stream",
          "name": "stdout",
          "text": [
            "900\n"
          ]
        }
      ]
    },
    {
      "cell_type": "markdown",
      "source": [
        "reverse the list"
      ],
      "metadata": {
        "id": "QeLnjyYO3W44"
      }
    },
    {
      "cell_type": "code",
      "source": [
        "def rev(arr):\n",
        "  left = 0\n",
        "  right = len(arr)-1\n",
        "  while(left<right):\n",
        "    temp = arr[left]\n",
        "    arr[left]=arr[right]\n",
        "    arr[right] = temp\n",
        "    left += 1\n",
        "    right -= 1\n",
        "  return arr\n",
        "\n",
        "n=int(input(\"Enter numbers \"))\n",
        "arr = []\n",
        "for i in range(n):\n",
        "  i = int(input(\"Enter array : \"))\n",
        "  arr.append(i)\n",
        "print(\"ARRAY : \",arr)\n",
        "print(\"Reversed Arrat : \",rev(arr))"
      ],
      "metadata": {
        "colab": {
          "base_uri": "https://localhost:8080/"
        },
        "id": "FIkxzRmzzExY",
        "outputId": "1e1a07c5-d779-43ed-fd0a-f3d6f229f877"
      },
      "execution_count": null,
      "outputs": [
        {
          "output_type": "stream",
          "name": "stdout",
          "text": [
            "Enter numbers 7\n",
            "Enter array : 1\n",
            "Enter array : 3\n",
            "Enter array : 5\n",
            "Enter array : 7\n",
            "Enter array : 9\n",
            "Enter array : 11\n",
            "Enter array : 12\n",
            "ARRAY :  [1, 3, 5, 7, 9, 11, 12]\n",
            "Reversed Arrat :  [12, 11, 9, 7, 5, 3, 1]\n"
          ]
        }
      ]
    },
    {
      "cell_type": "markdown",
      "source": [
        "WAP to search no. in an array then print the index of the first occurrence of the input number in the array"
      ],
      "metadata": {
        "id": "GTiaPJW351Px"
      }
    },
    {
      "cell_type": "code",
      "source": [
        "def search(arr):\n",
        "  for i in range(arr):\n",
        "    if i == n:\n",
        "      return index[i]\n",
        "  return -1\n",
        "\n",
        "n=int(input(\"Enter Number : \"))\n",
        "arr = [1,2,3,5,2]\n",
        "print(search)"
      ],
      "metadata": {
        "colab": {
          "base_uri": "https://localhost:8080/"
        },
        "id": "nVt9Lw102X7J",
        "outputId": "9ced48d6-29b5-4b19-b41a-e8cdd4cc7501"
      },
      "execution_count": null,
      "outputs": [
        {
          "output_type": "stream",
          "name": "stdout",
          "text": [
            "Enter Number : 2\n",
            "<function search at 0x7be110132d40>\n"
          ]
        }
      ]
    },
    {
      "cell_type": "markdown",
      "source": [
        "Set 3 Question (1)"
      ],
      "metadata": {
        "id": "SbC5KemzloH5"
      }
    },
    {
      "cell_type": "code",
      "source": [
        "#creating function for factors (def Factors)\n",
        "def Factors(n):\n",
        "  factors = []\n",
        "  for i in range(2,(n//2)+1):\n",
        "    if n%i == 0:\n",
        "      factors.append(i)\n",
        "  factors.append(n) # we have done this because number is factor of itself\n",
        "  return factors\n",
        "\n",
        "# know create function where we check if the factore is square free or not\n",
        "def IsSquareFree(n):\n",
        "  SquareFree = True\n",
        "  for i in Factors(n):\n",
        "    if (i**0.5).is_integer():\n",
        "      SquareFree = False\n",
        "      break\n",
        "  return SquareFree\n",
        "\n",
        "n = int(input(\"Enter a number : \"))\n",
        "factors = Factors(n)\n",
        "\n",
        "# count loop is created to count how many square free factors are there\n",
        "count = 0\n",
        "for k in factors:\n",
        "  if IsSquareFree(k):\n",
        "    count+=1\n",
        "\n",
        "print(count)\n",
        "\n",
        "\n",
        "\n"
      ],
      "metadata": {
        "colab": {
          "base_uri": "https://localhost:8080/"
        },
        "id": "KCEo1OzdlnPZ",
        "outputId": "1246ba72-8a42-44cf-b7ed-4d33ce819b03"
      },
      "execution_count": null,
      "outputs": [
        {
          "output_type": "stream",
          "name": "stdout",
          "text": [
            "Enter a number : 24\n",
            "3\n"
          ]
        }
      ]
    },
    {
      "cell_type": "markdown",
      "source": [
        "Set 3 Question 3"
      ],
      "metadata": {
        "id": "C_0Ju6iat9u_"
      }
    },
    {
      "cell_type": "code",
      "source": [
        "# is this function we creating list of lists which length is equal to k.\n",
        "def sublists(arr, k):\n",
        "    result = []\n",
        "    for i in range(len(arr) - k + 1):\n",
        "        sublist = arr[i:i+k]\n",
        "        result.append(sublist)\n",
        "    return result\n",
        "# here in this function we are finding the max value from an list(array).\n",
        "def FindMax(l):\n",
        "  Max=l[0]\n",
        "  for i in range(len(l)):\n",
        "    if Max<l[i]:\n",
        "      Max = l[i]\n",
        "  return Max\n",
        "\n",
        "arr = [1, 2, 3, 4, 5, 6, 7, 8]\n",
        "k = int(input(\"Enter K : \"))\n",
        "print(sublists(arr, k))\n",
        "data = sublists(arr, k)\n",
        "\n",
        "# when we use this for loop it means that i will take [1,2,3].... as an element from data\n",
        "Maximums = []\n",
        "for i in data:\n",
        "  max = FindMax(i)\n",
        "  Maximums.append(max)\n",
        "print(f\"Maximums From each list of kth length : {Maximums}\")"
      ],
      "metadata": {
        "colab": {
          "base_uri": "https://localhost:8080/"
        },
        "id": "tdV_IIZVubJ3",
        "outputId": "d1c0c33b-7741-4a7c-a345-de13fadbde18"
      },
      "execution_count": null,
      "outputs": [
        {
          "output_type": "stream",
          "name": "stdout",
          "text": [
            "Enter K : 3\n",
            "[[1, 2, 3], [2, 3, 4], [3, 4, 5], [4, 5, 6], [5, 6, 7], [6, 7, 8]]\n",
            "Maximums From each list of kth length : [3, 4, 5, 6, 7, 8]\n"
          ]
        }
      ]
    },
    {
      "cell_type": "markdown",
      "source": [],
      "metadata": {
        "id": "Ml64OkKS2N5d"
      }
    }
  ]
}